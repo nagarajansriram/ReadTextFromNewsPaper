{
 "cells": [
  {
   "cell_type": "code",
   "execution_count": 1,
   "metadata": {},
   "outputs": [
    {
     "name": "stdout",
     "output_type": "stream",
     "text": [
      "Requirement already satisfied: gTTS in c:\\users\\sri\\anaconda3\\lib\\site-packages (2.1.1)\n",
      "Requirement already satisfied: pyttsx3 in c:\\users\\sri\\anaconda3\\lib\\site-packages (2.90)\n",
      "Requirement already satisfied: playsound in c:\\users\\sri\\anaconda3\\lib\\site-packages (1.2.2)\n",
      "Requirement already satisfied: click in c:\\users\\sri\\anaconda3\\lib\\site-packages (from gTTS) (7.0)\n",
      "Requirement already satisfied: beautifulsoup4 in c:\\users\\sri\\anaconda3\\lib\\site-packages (from gTTS) (4.8.2)\n",
      "Requirement already satisfied: requests in c:\\users\\sri\\anaconda3\\lib\\site-packages (from gTTS) (2.22.0)\n",
      "Requirement already satisfied: gtts-token>=1.1.3 in c:\\users\\sri\\anaconda3\\lib\\site-packages (from gTTS) (1.1.3)\n",
      "Requirement already satisfied: six in c:\\users\\sri\\anaconda3\\lib\\site-packages (from gTTS) (1.14.0)\n",
      "Requirement already satisfied: comtypes; platform_system == \"Windows\" in c:\\users\\sri\\anaconda3\\lib\\site-packages (from pyttsx3) (1.1.7)\n",
      "Requirement already satisfied: pypiwin32; platform_system == \"Windows\" in c:\\users\\sri\\anaconda3\\lib\\site-packages (from pyttsx3) (223)\n",
      "Requirement already satisfied: pywin32; platform_system == \"Windows\" in c:\\users\\sri\\anaconda3\\lib\\site-packages (from pyttsx3) (227)\n",
      "Requirement already satisfied: soupsieve>=1.2 in c:\\users\\sri\\anaconda3\\lib\\site-packages (from beautifulsoup4->gTTS) (1.9.5)\n",
      "Requirement already satisfied: idna<2.9,>=2.5 in c:\\users\\sri\\anaconda3\\lib\\site-packages (from requests->gTTS) (2.8)\n",
      "Requirement already satisfied: chardet<3.1.0,>=3.0.2 in c:\\users\\sri\\anaconda3\\lib\\site-packages (from requests->gTTS) (3.0.4)\n",
      "Requirement already satisfied: certifi>=2017.4.17 in c:\\users\\sri\\anaconda3\\lib\\site-packages (from requests->gTTS) (2019.11.28)\n",
      "Requirement already satisfied: urllib3!=1.25.0,!=1.25.1,<1.26,>=1.21.1 in c:\\users\\sri\\anaconda3\\lib\\site-packages (from requests->gTTS) (1.25.8)\n",
      "Note: you may need to restart the kernel to use updated packages.\n"
     ]
    }
   ],
   "source": [
    "pip install gTTS pyttsx3 playsound"
   ]
  },
  {
   "cell_type": "code",
   "execution_count": 2,
   "metadata": {},
   "outputs": [],
   "source": [
    "import cv2"
   ]
  },
  {
   "cell_type": "code",
   "execution_count": 3,
   "metadata": {},
   "outputs": [],
   "source": [
    "import pytesseract"
   ]
  },
  {
   "cell_type": "code",
   "execution_count": 4,
   "metadata": {},
   "outputs": [],
   "source": [
    "pytesseract.pytesseract.tesseract_cmd=r\"C:\\Program Files\\Tesseract-OCR\\tesseract.exe\""
   ]
  },
  {
   "cell_type": "code",
   "execution_count": 7,
   "metadata": {},
   "outputs": [],
   "source": [
    "img=cv2.imread(r\"C:\\Users\\SRI\\Documents\\ReadNewsPaper\\novelpage.jpg\")"
   ]
  },
  {
   "cell_type": "code",
   "execution_count": 8,
   "metadata": {},
   "outputs": [],
   "source": [
    "text=pytesseract.image_to_string(img)"
   ]
  },
  {
   "cell_type": "code",
   "execution_count": 9,
   "metadata": {},
   "outputs": [
    {
     "name": "stdout",
     "output_type": "stream",
     "text": [
      "Vol-1\n",
      "PONNIYIN SELVAN PARTI\n",
      "\n",
      "THE NEW TIDE\n",
      "Chapter I : The Aadi Celebrations\n",
      "\n",
      "We invite you dears, to a journey into the endless expanse of\n",
      "time on an imaginary Time Machine. Let us zoom into the past at the\n",
      "speed of a hundred years per second and arrive at our chosen destination,\n",
      "about a thousand years before the present. (968AD to be precise)\n",
      "\n",
      "Thirumunaippadi is a small fiefdom sandwiched between the\n",
      "mighty Kingdoms of Chozha and Thondai-Mandalam. In the southern\n",
      "part of Thirumunaippadi about twenty miles west of the present day\n",
      "Chidambaram is a large water body popularly known as the\n",
      "Veeranarayana Lake. The lake is 10 miles long and about 3 miles wide.\n",
      "Over a period of time the name Veeranarayana Lake got distorted into\n",
      "Veeranam Lake, by which name it is known today.\n",
      "\n",
      "It was the 18\" day of the Tamil Month of Aadi. (Roughly\n",
      "corresponds to August 3” of the English Calendar) A young warrior\n",
      "was riding on a horse on the banks of the lake. The young man hailed\n",
      "from the Vaana clan, a clan renowned for its valour. His name was\n",
      "Vallavaraiyan VandhiyaThevan. (Vallavaraiyan literally means the ruler\n",
      "of Vallam, a small town near Thanjavur)\n",
      "\n",
      "The horse had been travelling without a break for several hours.\n",
      "It was tired. It could not gallop as much as it did at the beginning of the\n",
      "journey. The warrior did not mind the lazy walk of the animal; his\n",
      "mind was fully absorbed in the majestic beauty of the vast lake.\n",
      "\n",
      "On the 18\" day of Aadi, celebrated as Aadi Perukku, all the rivers\n",
      "in the Chozha Kingdom would be flowing to their brim. And the lakes\n",
      "that are fed by these rivers would be so full that the water would dash\n",
      "against the banks creating large ripples that resembled the waves of an\n",
      "ocean.\n"
     ]
    }
   ],
   "source": [
    "print(text)"
   ]
  },
  {
   "cell_type": "code",
   "execution_count": 10,
   "metadata": {},
   "outputs": [],
   "source": [
    "import gtts\n",
    "from playsound import playsound"
   ]
  },
  {
   "cell_type": "code",
   "execution_count": 11,
   "metadata": {},
   "outputs": [],
   "source": [
    "tts = gtts.gTTS(text)"
   ]
  },
  {
   "cell_type": "code",
   "execution_count": 12,
   "metadata": {},
   "outputs": [],
   "source": [
    "tts.save(\"p.mp3\")"
   ]
  },
  {
   "cell_type": "code",
   "execution_count": null,
   "metadata": {},
   "outputs": [],
   "source": [
    "playsound(\"p.mp3\")"
   ]
  },
  {
   "cell_type": "code",
   "execution_count": null,
   "metadata": {},
   "outputs": [],
   "source": []
  }
 ],
 "metadata": {
  "kernelspec": {
   "display_name": "Python 3",
   "language": "python",
   "name": "python3"
  }
 },
 "nbformat": 4,
 "nbformat_minor": 4
}
